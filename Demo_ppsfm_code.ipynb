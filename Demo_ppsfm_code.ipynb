{
 "cells": [
  {
   "cell_type": "markdown",
   "id": "70a5983c",
   "metadata": {},
   "source": [
    "Pixel-Perfect SfM Demo file"
   ]
  },
  {
   "cell_type": "code",
   "execution_count": null,
   "id": "379aa91d",
   "metadata": {},
   "outputs": [],
   "source": [
    "%load_ext autoreload\n",
    "%autoreload 2\n",
    "import tqdm, tqdm.notebook\n",
    "tqdm.tqdm = tqdm.notebook.tqdm  # notebook-friendly progress bars\n",
    "from pathlib import Path\n",
    "\n",
    "from hloc import extract_features, match_features, reconstruction, pairs_from_exhaustive, visualization\n",
    "from hloc.visualization import plot_images, read_image\n",
    "from hloc.utils.viz_3d import init_figure, plot_points, plot_reconstruction, plot_camera_colmap\n",
    "\n",
    "from pixsfm.util.visualize import init_image, plot_points2D\n",
    "from pixsfm.refine_hloc import PixSfM\n",
    "from pixsfm import ostream_redirect\n",
    "\n",
    "# redirect the C++ outputs to notebook cells\n",
    "cpp_out = ostream_redirect(stderr=True, stdout=True)\n",
    "cpp_out.__enter__()"
   ]
  },
  {
   "cell_type": "markdown",
   "id": "bf7c6f36",
   "metadata": {},
   "source": [
    "# Setup"
   ]
  },
  {
   "cell_type": "code",
   "execution_count": null,
   "id": "ab294072",
   "metadata": {},
   "outputs": [],
   "source": [
    "images = Path('datasets/fountain')\n",
    "outputs = Path('outputs/fountain3/')\n",
    "!rm -rf $outputs\n",
    "sfm_pairs = outputs / 'pairs-sfm.txt'\n",
    "loc_pairs = outputs / 'pairs-loc.txt'\n",
    "features = outputs / 'features.h5'\n",
    "matches = outputs / 'matches.h5'\n",
    "raw_dir = outputs / \"raw\"\n",
    "ref_dir = outputs / \"ref\""
   ]
  },
  {
   "cell_type": "code",
   "execution_count": null,
   "id": "d4182c42",
   "metadata": {},
   "outputs": [],
   "source": [
    "feature_conf = extract_features.confs['superpoint_aachen']\n",
    "#matcher_conf = match_features.confs['superglue']\n",
    "matcher_conf = match_features.confs['superpoint+lightglue']"
   ]
  },
  {
   "cell_type": "markdown",
   "id": "29335da0",
   "metadata": {},
   "source": [
    "# 3D mapping and refinement"
   ]
  },
  {
   "cell_type": "code",
   "execution_count": null,
   "id": "f122e24f",
   "metadata": {},
   "outputs": [],
   "source": [
    "references = [str(p.relative_to(images)) for p in (images / 'mapping/').iterdir()]\n",
    "print(len(references), \"mapping images\")\n",
    "plot_images([read_image(images / r) for r in references[:4]], dpi=50)"
   ]
  },
  {
   "cell_type": "markdown",
   "id": "d8e86f9d",
   "metadata": {},
   "source": [
    "Then we extract features and match them across image pairs. Since we deal with few images, we simply match all pairs exhaustively."
   ]
  },
  {
   "cell_type": "code",
   "execution_count": null,
   "id": "a21540f3",
   "metadata": {},
   "outputs": [],
   "source": [
    "extract_features.main(feature_conf, images, image_list=references, feature_path=features)\n",
    "pairs_from_exhaustive.main(sfm_pairs, image_list=references)\n",
    "match_features.main(matcher_conf, sfm_pairs, features=features, matches=matches);"
   ]
  },
  {
   "cell_type": "markdown",
   "id": "e232823a",
   "metadata": {},
   "source": [
    "Now we run the reconstruction with and without the featuremetric refinement. For this dataset, when computing the dense features, we resize the images such that they are not larger than 1024 pixels."
   ]
  },
  {
   "cell_type": "code",
   "execution_count": null,
   "id": "0c00bcc6",
   "metadata": {},
   "outputs": [],
   "source": [
    "# run pixsfm\n",
    "sfm = PixSfM({\"dense_features\": {\"max_edge\": 1024}})\n",
    "refined, sfm_outputs = sfm.reconstruction(ref_dir, images, sfm_pairs, features, matches, image_list=references)\n",
    "# here ref is pycolmap.Reconstruction object\n",
    "\n",
    "# run the raw geometric SfM for comparison\n",
    "raw_sfm = PixSfM({\"KA\":{\"apply\": False}, \"BA\": {\"apply\": False}})\n",
    "raw, _ = raw_sfm.reconstruction(raw_dir, images, sfm_pairs, features, matches, image_list=references)"
   ]
  },
  {
   "cell_type": "code",
   "execution_count": null,
   "id": "fbaf9840",
   "metadata": {
    "scrolled": true
   },
   "outputs": [],
   "source": [
    "print(\"Raw\", raw.summary())\n",
    "print(\"Refined\", refined.summary())"
   ]
  },
  {
   "cell_type": "markdown",
   "id": "181bd7d3",
   "metadata": {},
   "source": [
    "# Visualization\n",
    "To visualize both models together, we rigidly transform the raw reconstruction so that the 3D points common to the two 3D models are aligned."
   ]
  },
  {
   "cell_type": "code",
   "execution_count": null,
   "id": "d2ad001e",
   "metadata": {},
   "outputs": [],
   "source": [
    "raw.align_points(refined, max_error=0.005, min_inlier_ratio=0.9, min_overlap=3)"
   ]
  },
  {
   "cell_type": "code",
   "execution_count": null,
   "id": "56439fe8",
   "metadata": {},
   "outputs": [],
   "source": [
    "fig3d = init_figure()\n",
    "args = dict(max_reproj_error=3.0, min_track_length=2, cs=1)\n",
    "plot_reconstruction(fig3d, raw, color='rgba(255, 0, 0, 0.5)', name=\"raw\", **args)\n",
    "plot_reconstruction(fig3d, refined, color='rgba(0, 255, 0, 0.5)', name=\"refined\", **args)\n",
    "fig3d.show()"
   ]
  },
  {
   "cell_type": "code",
   "execution_count": null,
   "id": "acc46954",
   "metadata": {},
   "outputs": [],
   "source": [
    "img = refined.images[refined.reg_image_ids()[0]]\n",
    "cam = refined.cameras[img.camera_id]\n",
    "fig = init_image(images / img.name)    \n",
    "plot_points2D(fig, [p2D.xy for p2D in img.points2D if p2D.has_point3D()])\n",
    "plot_points2D(fig, cam.world_to_image(img.project(refined)), color='rgba(255, 0, 0, 0.5)')\n",
    "fig.show()"
   ]
  },
  {
   "cell_type": "code",
   "execution_count": null,
   "id": "40cefab0-6824-49d2-8337-97320013fc96",
   "metadata": {},
   "outputs": [],
   "source": []
  },
  {
   "cell_type": "markdown",
   "id": "36a5e6b3-37f9-425e-b4f6-4fcecf94a399",
   "metadata": {},
   "source": [
    "# Export"
   ]
  },
  {
   "cell_type": "code",
   "execution_count": null,
   "id": "ec7f4c25-f6b2-4270-a0c3-6cb75efab1ec",
   "metadata": {
    "scrolled": true
   },
   "outputs": [],
   "source": [
    "from hloc.utils.read_write_model import read_model, write_points3D_text\n",
    "\n",
    "model_dir = ref_dir\n",
    "output_path = model_dir / 'output_points_ref.ply'\n",
    "\n",
    "cameras, images, points3D = read_model(path= ref_dir)\n",
    "\n",
    "pt_data = []\n",
    "for point_id, point in points3D.items():\n",
    "    x, y, z = point.xyz\n",
    "    r, g, b = point.rgb\n",
    "    pt_data.append(f\"{x} {y} {z} {r} {g} {b}\")\n",
    "\n",
    "# Write the PLY file\n",
    "with open(output_path, 'w') as ply_file:\n",
    "    ply_file.write(f\"ply\\nformat ascii 1.0\\nelement vertex {len(points3D)}\\n\")\n",
    "    ply_file.write(\"property float x\\nproperty float y\\nproperty float z\\n\")\n",
    "    ply_file.write(\"property uchar red\\nproperty uchar green\\nproperty uchar blue\\n\")\n",
    "    ply_file.write(\"end_header\\n\")\n",
    "    ply_file.write('\\n'.join(pt_data))\n",
    "\n",
    "print(f\"Exported {len(points3D)} 3D points to {output_path}\")"
   ]
  },
  {
   "cell_type": "code",
   "execution_count": null,
   "id": "50489697-c870-49cc-bc85-8f1169560fce",
   "metadata": {},
   "outputs": [],
   "source": []
  }
 ],
 "metadata": {
  "kernelspec": {
   "display_name": "Python 3 (ipykernel)",
   "language": "python",
   "name": "python3"
  },
  "language_info": {
   "codemirror_mode": {
    "name": "ipython",
    "version": 3
   },
   "file_extension": ".py",
   "mimetype": "text/x-python",
   "name": "python",
   "nbconvert_exporter": "python",
   "pygments_lexer": "ipython3",
   "version": "3.8.10"
  }
 },
 "nbformat": 4,
 "nbformat_minor": 5
}
